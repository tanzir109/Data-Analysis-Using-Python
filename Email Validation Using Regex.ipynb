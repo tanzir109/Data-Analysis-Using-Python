{
 "cells": [
  {
   "cell_type": "code",
   "execution_count": 6,
   "id": "e401e422",
   "metadata": {},
   "outputs": [],
   "source": [
    "import re"
   ]
  },
  {
   "cell_type": "code",
   "execution_count": 7,
   "id": "0aba2660",
   "metadata": {},
   "outputs": [],
   "source": [
    "email_condition = \"^[a-z]+[\\._]?[a-z 0-9]+[@]\\w+[.]\\w{2,3}$\""
   ]
  },
  {
   "cell_type": "code",
   "execution_count": 8,
   "id": "4db4160f",
   "metadata": {},
   "outputs": [
    {
     "name": "stdout",
     "output_type": "stream",
     "text": [
      " Enter your email : tanzir109@yahoo.com\n"
     ]
    }
   ],
   "source": [
    "user_email = input(' Enter your email : ')"
   ]
  },
  {
   "cell_type": "code",
   "execution_count": 9,
   "id": "02f64b52",
   "metadata": {},
   "outputs": [
    {
     "name": "stdout",
     "output_type": "stream",
     "text": [
      " Right Email \n"
     ]
    }
   ],
   "source": [
    "if re.search(email_condition, user_email):\n",
    "    print(\" Right Email \")\n",
    "else:\n",
    "    print(\" Wrong Email \")"
   ]
  },
  {
   "cell_type": "code",
   "execution_count": null,
   "id": "8be6fbf4",
   "metadata": {},
   "outputs": [],
   "source": []
  }
 ],
 "metadata": {
  "kernelspec": {
   "display_name": "Python 3 (ipykernel)",
   "language": "python",
   "name": "python3"
  },
  "language_info": {
   "codemirror_mode": {
    "name": "ipython",
    "version": 3
   },
   "file_extension": ".py",
   "mimetype": "text/x-python",
   "name": "python",
   "nbconvert_exporter": "python",
   "pygments_lexer": "ipython3",
   "version": "3.11.1"
  }
 },
 "nbformat": 4,
 "nbformat_minor": 5
}
