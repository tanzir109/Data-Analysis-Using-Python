{
 "cells": [
  {
   "cell_type": "code",
   "execution_count": 1,
   "id": "1715eec6",
   "metadata": {},
   "outputs": [
    {
     "name": "stdout",
     "output_type": "stream",
     "text": [
      "Requirement already satisfied: qrcode in c:\\users\\tanzi\\appdata\\local\\programs\\python\\python311\\lib\\site-packages (7.4.2)\n",
      "Requirement already satisfied: pip in c:\\users\\tanzi\\appdata\\local\\programs\\python\\python311\\lib\\site-packages (23.3.2)\n",
      "Requirement already satisfied: typing-extensions in c:\\users\\tanzi\\appdata\\local\\programs\\python\\python311\\lib\\site-packages (from qrcode) (4.9.0)\n",
      "Requirement already satisfied: pypng in c:\\users\\tanzi\\appdata\\local\\programs\\python\\python311\\lib\\site-packages (from qrcode) (0.20220715.0)\n",
      "Requirement already satisfied: colorama in c:\\users\\tanzi\\appdata\\local\\programs\\python\\python311\\lib\\site-packages (from qrcode) (0.4.6)\n",
      "Note: you may need to restart the kernel to use updated packages.\n"
     ]
    }
   ],
   "source": [
    "pip install qrcode --upgrade pip"
   ]
  },
  {
   "cell_type": "code",
   "execution_count": 3,
   "id": "2004d7fe",
   "metadata": {},
   "outputs": [],
   "source": [
    "import qrcode as qr"
   ]
  },
  {
   "cell_type": "code",
   "execution_count": 5,
   "id": "4a6e6a65",
   "metadata": {},
   "outputs": [],
   "source": [
    "img = qr.make(\"https://www.youtube.com/@bayyinah\")\n",
    "img.save(\"bayyinah.png\")"
   ]
  },
  {
   "cell_type": "code",
   "execution_count": null,
   "id": "fa7e1f42",
   "metadata": {},
   "outputs": [],
   "source": []
  }
 ],
 "metadata": {
  "kernelspec": {
   "display_name": "Python 3 (ipykernel)",
   "language": "python",
   "name": "python3"
  },
  "language_info": {
   "codemirror_mode": {
    "name": "ipython",
    "version": 3
   },
   "file_extension": ".py",
   "mimetype": "text/x-python",
   "name": "python",
   "nbconvert_exporter": "python",
   "pygments_lexer": "ipython3",
   "version": "3.11.1"
  }
 },
 "nbformat": 4,
 "nbformat_minor": 5
}
