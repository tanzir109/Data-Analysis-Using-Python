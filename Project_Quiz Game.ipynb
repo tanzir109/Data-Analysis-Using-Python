{
 "cells": [
  {
   "cell_type": "code",
   "execution_count": 28,
   "id": "791e6b55",
   "metadata": {},
   "outputs": [
    {
     "name": "stdout",
     "output_type": "stream",
     "text": [
      "Random Quiz Game\n",
      "Do you want to play? Yes\n",
      "Which element in an atom carries negative charge? electron\n",
      "What is the capital of Australia? CanbeRRa\n",
      "Which continent does Egypt belongs to? AfricA\n",
      "Only one country has tringular shapped flag, what is the name of that country? napel\n",
      "Your score is 3\n",
      "Your score is 75.0%\n"
     ]
    }
   ],
   "source": [
    "import sys\n",
    "print(\"Random Quiz Game\")\n",
    "question = input(\"Do you want to play? \")\n",
    "\n",
    "if question.lower() != \"yes\":\n",
    "    sys.exit()\n",
    "score = 0\n",
    "\n",
    "\n",
    "first_question = input(\"Which element in an atom carries negative charge? \")\n",
    "if first_question.lower() == \"electron\":\n",
    "    score += 1\n",
    "\n",
    "second_question = input(\"What is the capital of Australia? \")\n",
    "if second_question.capitalize() == \"Canberra\":\n",
    "    score += 1\n",
    "    \n",
    "third_question = input(\"Which continent does Egypt belongs to? \")\n",
    "if third_question.capitalize() == \"Africa\":\n",
    "    score += 1\n",
    "\n",
    "forth_question = input('Only one country has tringular shapped flag, what is the name of that country? ')\n",
    "if forth_question.capitalize() == \"Nepal\":\n",
    "    score += 1\n",
    "\n",
    "print(\"Your score is \" + str(score))\n",
    "print(\"Your score is \" + str((score/4)*100) + '%')\n",
    "    "
   ]
  },
  {
   "cell_type": "code",
   "execution_count": null,
   "id": "5941977f",
   "metadata": {},
   "outputs": [],
   "source": []
  },
  {
   "cell_type": "code",
   "execution_count": null,
   "id": "e2875f50",
   "metadata": {},
   "outputs": [],
   "source": []
  }
 ],
 "metadata": {
  "kernelspec": {
   "display_name": "Python 3 (ipykernel)",
   "language": "python",
   "name": "python3"
  },
  "language_info": {
   "codemirror_mode": {
    "name": "ipython",
    "version": 3
   },
   "file_extension": ".py",
   "mimetype": "text/x-python",
   "name": "python",
   "nbconvert_exporter": "python",
   "pygments_lexer": "ipython3",
   "version": "3.11.1"
  }
 },
 "nbformat": 4,
 "nbformat_minor": 5
}
