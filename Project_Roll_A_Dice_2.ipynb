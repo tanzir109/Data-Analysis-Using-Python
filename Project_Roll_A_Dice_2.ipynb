{
 "cells": [
  {
   "cell_type": "code",
   "execution_count": 241,
   "id": "6b71d62b",
   "metadata": {},
   "outputs": [],
   "source": [
    "import random"
   ]
  },
  {
   "cell_type": "code",
   "execution_count": 242,
   "id": "48bfcea4",
   "metadata": {},
   "outputs": [
    {
     "name": "stdout",
     "output_type": "stream",
     "text": [
      "Do you want to play(y/n)? y\n"
     ]
    }
   ],
   "source": [
    "game = input(\"Do you want to play(y/n)? \")"
   ]
  },
  {
   "cell_type": "code",
   "execution_count": 243,
   "id": "d4a7396c",
   "metadata": {},
   "outputs": [
    {
     "name": "stdout",
     "output_type": "stream",
     "text": [
      "Welcome!\n",
      "How many players are there? 4\n",
      "[0, 0, 0, 0]\n"
     ]
    }
   ],
   "source": [
    "if game.lower() == \"n\":\n",
    "    print(\"Game aborted\")\n",
    "    \n",
    "elif game.lower() == \"y\":\n",
    "    print(\"Welcome!\")\n",
    "    players = int(input('How many players are there? '))\n",
    "    \n",
    "    players_score = [0 for a in range(players)]\n",
    "    print(players_score)"
   ]
  },
  {
   "cell_type": "code",
   "execution_count": 246,
   "id": "4c30f5ea",
   "metadata": {
    "scrolled": true
   },
   "outputs": [
    {
     "name": "stdout",
     "output_type": "stream",
     "text": [
      "*********************\n",
      "Player_number : 1 It's time for you to roll\n",
      "Do you want to roll (press 'y to roll'? )y\n",
      "You roll,  2\n",
      "Your score for this run is,  2\n",
      "Do you want to continue rolling (y/n)? n\n",
      "Your total score is  32\n",
      "*********************\n",
      "Player_number : 2 It's time for you to roll\n",
      "Do you want to roll (press 'y to roll'? )n\n",
      "Please press 'y to continue'\n",
      "*********************\n",
      "Player_number : 3 It's time for you to roll\n",
      "Do you want to roll (press 'y to roll'? )n\n",
      "Please press 'y to continue'\n",
      "*********************\n",
      "Player_number : 4 It's time for you to roll\n",
      "Do you want to roll (press 'y to roll'? )n\n",
      "Please press 'y to continue'\n",
      "Player 1  has won with a scoe of  32\n"
     ]
    }
   ],
   "source": [
    "score_to_win = 30\n",
    "for player in range(players):\n",
    "    print(\"*********************\")\n",
    "    print(\"Player_number :\", player+1, \"It's time for you to roll\")\n",
    "    want_to_roll = input(\"Do you want to roll (press 'y to roll'? )\")\n",
    "    \n",
    "    score_for_this_run = 0\n",
    "\n",
    "    if want_to_roll.lower() != \"y\": \n",
    "        print(\"Please press 'y to continue'\")\n",
    "    else:\n",
    "        while True:\n",
    "            \n",
    "            roll = random.randint(1,6)\n",
    "\n",
    "            if roll == 1:\n",
    "                score_for_this_run = 0\n",
    "                print(\"You roll, \", roll)\n",
    "                \n",
    "                print(\"Your score for this run is, \", score_for_this_run)\n",
    "                break\n",
    "            \n",
    "            elif roll != 1:\n",
    "                \n",
    "                print(\"You roll, \", roll)\n",
    "                score_for_this_run += roll\n",
    "                \n",
    "                print(\"Your score for this run is, \", score_for_this_run)\n",
    "                \n",
    "                next_roll = input(\"Do you want to continue rolling (y/n)? \")\n",
    "                if next_roll.lower() == \"n\":\n",
    "                    break\n",
    "        players_score[player] = players_score[player] + score_for_this_run           \n",
    "        print(\"Your total score is \", players_score[player])\n",
    "            \n",
    "if max(players_score) >  score_to_win:       \n",
    "    index_of_winning_player = players_score.index(max(players_score)) + 1\n",
    "    print(\"Player\", index_of_winning_player , \" has won with a scoe of \" , max(players_score))      \n"
   ]
  },
  {
   "cell_type": "code",
   "execution_count": 228,
   "id": "177b7950",
   "metadata": {},
   "outputs": [
    {
     "data": {
      "text/plain": [
       "1"
      ]
     },
     "execution_count": 228,
     "metadata": {},
     "output_type": "execute_result"
    }
   ],
   "source": []
  },
  {
   "cell_type": "code",
   "execution_count": null,
   "id": "c8d3dd7d",
   "metadata": {},
   "outputs": [],
   "source": []
  }
 ],
 "metadata": {
  "kernelspec": {
   "display_name": "Python 3 (ipykernel)",
   "language": "python",
   "name": "python3"
  },
  "language_info": {
   "codemirror_mode": {
    "name": "ipython",
    "version": 3
   },
   "file_extension": ".py",
   "mimetype": "text/x-python",
   "name": "python",
   "nbconvert_exporter": "python",
   "pygments_lexer": "ipython3",
   "version": "3.11.1"
  }
 },
 "nbformat": 4,
 "nbformat_minor": 5
}
