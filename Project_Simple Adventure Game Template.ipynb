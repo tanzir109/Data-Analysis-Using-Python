{
 "cells": [
  {
   "cell_type": "code",
   "execution_count": 3,
   "id": "f09d8516",
   "metadata": {},
   "outputs": [
    {
     "name": "stdout",
     "output_type": "stream",
     "text": [
      "Type your name: Muhammad\n",
      "Welcome Muhammad to this adventure!\n",
      "You are on a dirt road, it has come to an end and you can go left or right. Which way would you like to go? right\n",
      "You come to a bridge, it looks wobbly, do you want to cross it or head back (cross/back)? cross\n",
      "You cross the bridge and meet a stranger. Do you talk to them (yes/no)? Yes\n",
      "You talk to the stanger and they give you gold. You WIN!\n",
      "Thank you for trying Muhammad\n"
     ]
    }
   ],
   "source": [
    "name = input(\"Type your name: \")\n",
    "print(\"Welcome\", name, \"to this adventure!\")\n",
    "\n",
    "answer = input(\n",
    "    \"You are on a dirt road, it has come to an end and you can go left or right. Which way would you like to go? \").lower()\n",
    "\n",
    "if answer == \"left\":\n",
    "    answer = input(\n",
    "        \"You come to a river, you can walk around it or swim accross? Type walk to walk around and swim to swim accross: \").lower()\n",
    "\n",
    "    if answer == \"swim\":\n",
    "        print(\"You swam acrross and were eaten by an alligator.\")\n",
    "    elif answer == \"walk\":\n",
    "        print(\"You walked for many miles, ran out of water and you lost the game.\")\n",
    "    else:\n",
    "        print('Not a valid option. You lose.')\n",
    "\n",
    "elif answer == \"right\":\n",
    "    answer = input(\n",
    "        \"You come to a bridge, it looks wobbly, do you want to cross it or head back (cross/back)? \")\n",
    "\n",
    "    if answer == \"back\":\n",
    "        print(\"You go back and lose.\")\n",
    "    elif answer == \"cross\":\n",
    "        answer = input(\n",
    "            \"You cross the bridge and meet a stranger. Do you talk to them (yes/no)? \").lower()\n",
    "\n",
    "        if answer == \"yes\":\n",
    "            print(\"You talk to the stanger and they give you gold. You WIN!\")\n",
    "        elif answer == \"no\":\n",
    "            print(\"You ignore the stranger and they are offended and you lose.\")\n",
    "        else:\n",
    "            print('Not a valid option. You lose.')\n",
    "    else:\n",
    "        print('Not a valid option. You lose.')\n",
    "\n",
    "else:\n",
    "    print('Not a valid option. You lose.')\n",
    "\n",
    "print(\"Thank you for trying\", name)"
   ]
  },
  {
   "cell_type": "code",
   "execution_count": null,
   "id": "0c8b09d7",
   "metadata": {},
   "outputs": [],
   "source": []
  }
 ],
 "metadata": {
  "kernelspec": {
   "display_name": "Python 3 (ipykernel)",
   "language": "python",
   "name": "python3"
  },
  "language_info": {
   "codemirror_mode": {
    "name": "ipython",
    "version": 3
   },
   "file_extension": ".py",
   "mimetype": "text/x-python",
   "name": "python",
   "nbconvert_exporter": "python",
   "pygments_lexer": "ipython3",
   "version": "3.11.1"
  }
 },
 "nbformat": 4,
 "nbformat_minor": 5
}
