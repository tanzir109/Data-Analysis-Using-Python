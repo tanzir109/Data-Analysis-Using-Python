{
 "cells": [
  {
   "cell_type": "markdown",
   "id": "4fe683a9",
   "metadata": {},
   "source": [
    "## First Step With Python:"
   ]
  },
  {
   "cell_type": "code",
   "execution_count": 2,
   "id": "edf4c168",
   "metadata": {},
   "outputs": [
    {
     "data": {
      "text/plain": [
       "12"
      ]
     },
     "execution_count": 2,
     "metadata": {},
     "output_type": "execute_result"
    }
   ],
   "source": [
    "2+3+7"
   ]
  },
  {
   "cell_type": "code",
   "execution_count": 3,
   "id": "2c6baa96",
   "metadata": {},
   "outputs": [
    {
     "data": {
      "text/plain": [
       "4"
      ]
     },
     "execution_count": 3,
     "metadata": {},
     "output_type": "execute_result"
    }
   ],
   "source": [
    "9-5"
   ]
  },
  {
   "cell_type": "code",
   "execution_count": 4,
   "id": "168ca5e8",
   "metadata": {},
   "outputs": [
    {
     "data": {
      "text/plain": [
       "-141.89999999999998"
      ]
     },
     "execution_count": 4,
     "metadata": {},
     "output_type": "execute_result"
    }
   ],
   "source": [
    "23.65 * -6"
   ]
  },
  {
   "cell_type": "code",
   "execution_count": 5,
   "id": "b311f58a",
   "metadata": {},
   "outputs": [
    {
     "data": {
      "text/plain": [
       "14.285714285714286"
      ]
     },
     "execution_count": 5,
     "metadata": {},
     "output_type": "execute_result"
    }
   ],
   "source": [
    "100/7"
   ]
  },
  {
   "cell_type": "code",
   "execution_count": 7,
   "id": "5bb85856",
   "metadata": {},
   "outputs": [
    {
     "data": {
      "text/plain": [
       "14"
      ]
     },
     "execution_count": 7,
     "metadata": {},
     "output_type": "execute_result"
    }
   ],
   "source": [
    "100//7 "
   ]
  },
  {
   "cell_type": "code",
   "execution_count": 205,
   "id": "0e092716",
   "metadata": {},
   "outputs": [
    {
     "data": {
      "text/plain": [
       "2"
      ]
     },
     "execution_count": 205,
     "metadata": {},
     "output_type": "execute_result"
    }
   ],
   "source": [
    "100 % 7 # remainder"
   ]
  },
  {
   "cell_type": "code",
   "execution_count": 206,
   "id": "64fedf5c",
   "metadata": {},
   "outputs": [
    {
     "data": {
      "text/plain": [
       "125"
      ]
     },
     "execution_count": 206,
     "metadata": {},
     "output_type": "execute_result"
    }
   ],
   "source": [
    "5**3 # 5 to the power 3"
   ]
  },
  {
   "cell_type": "code",
   "execution_count": 11,
   "id": "355129a4",
   "metadata": {},
   "outputs": [
    {
     "data": {
      "text/plain": [
       "3.09375"
      ]
     },
     "execution_count": 11,
     "metadata": {},
     "output_type": "execute_result"
    }
   ],
   "source": [
    "((2+7) * (26-4)) / (4**3)"
   ]
  },
  {
   "cell_type": "markdown",
   "id": "c75c9545",
   "metadata": {},
   "source": [
    "Solving a problem using variable:\n",
    "\n",
    "A grocery store sells a bag o ice for $1.25 and makes 20% profit. If it sells 500 bags of ice, how much total profit does it make?\n",
    "\n",
    "Cost of ice bag ($) = 1.25\n",
    "Profit margin = 20% = 0.2\n",
    "No. of bags = 500\n",
    "Profit per bag($) = profit margin * cost of ice bag = 2 * 1.25\n",
    "Total profit = no. of bags * profit per bag = 500 * (2 * 1.25)"
   ]
  },
  {
   "cell_type": "code",
   "execution_count": 12,
   "id": "262fa38b",
   "metadata": {},
   "outputs": [
    {
     "data": {
      "text/plain": [
       "125.0"
      ]
     },
     "execution_count": 12,
     "metadata": {},
     "output_type": "execute_result"
    }
   ],
   "source": [
    "500 * (0.2 * 1.25)"
   ]
  },
  {
   "cell_type": "markdown",
   "id": "567dd831",
   "metadata": {},
   "source": [
    "While working with a programming language such as Python, information is stored in variables. Variable can be thought as a container for storing data. The data stored within a variable is called its value.\n",
    "\n",
    "In python words in variable name can not be seperated, we usually use underscore to connect the words. \n",
    "\n",
    "Note: variable need to be define/declare first before it can be used."
   ]
  },
  {
   "cell_type": "code",
   "execution_count": 207,
   "id": "edb2f6b0",
   "metadata": {},
   "outputs": [],
   "source": [
    "cost_of_ice_bag = 1.25 # here variables are declared to use them later\n",
    "profit_margin = 0.2\n",
    "number_of_bags = 500"
   ]
  },
  {
   "cell_type": "code",
   "execution_count": 17,
   "id": "fdfc2ecd",
   "metadata": {},
   "outputs": [],
   "source": [
    "profit_per_bag = cost_of_ice_bag * profit_margin"
   ]
  },
  {
   "cell_type": "code",
   "execution_count": 18,
   "id": "edd00a94",
   "metadata": {},
   "outputs": [
    {
     "data": {
      "text/plain": [
       "0.25"
      ]
     },
     "execution_count": 18,
     "metadata": {},
     "output_type": "execute_result"
    }
   ],
   "source": [
    "profit_per_bag"
   ]
  },
  {
   "cell_type": "code",
   "execution_count": 19,
   "id": "ab02c72e",
   "metadata": {},
   "outputs": [],
   "source": [
    "total_profit = number_of_bags * profit_per_bag"
   ]
  },
  {
   "cell_type": "code",
   "execution_count": 20,
   "id": "882e27de",
   "metadata": {},
   "outputs": [
    {
     "data": {
      "text/plain": [
       "125.0"
      ]
     },
     "execution_count": 20,
     "metadata": {},
     "output_type": "execute_result"
    }
   ],
   "source": [
    "total_profit"
   ]
  },
  {
   "cell_type": "code",
   "execution_count": 211,
   "id": "b5843127",
   "metadata": {},
   "outputs": [
    {
     "name": "stdout",
     "output_type": "stream",
     "text": [
      "The store makes a total profit of $ 125.0\n"
     ]
    }
   ],
   "source": [
    "print(\"The store makes a total profit of $\", total_profit) # remember to use the comma!"
   ]
  },
  {
   "cell_type": "code",
   "execution_count": 212,
   "id": "4dc088f4",
   "metadata": {},
   "outputs": [
    {
     "name": "stdout",
     "output_type": "stream",
     "text": [
      "The store makes a total profit of $ 125.0\n"
     ]
    }
   ],
   "source": [
    "\"\"\"All the above calculations can be done in one code cell.\n",
    "Store input data in variables\"\"\"\n",
    "\n",
    "cost_of_ice_bag = 1.25\n",
    "profit_margin = 0.2\n",
    "number_of_bags = 500\n",
    "\n",
    "# Perform the required calculations\n",
    "profit_per_bag = cost_of_ice_bag * profit_margin\n",
    "total_profit = number_of_bags * profit_per_bag\n",
    "\n",
    "# Display the result\n",
    "print(\"The store makes a total profit of $\", total_profit)"
   ]
  },
  {
   "cell_type": "markdown",
   "id": "6cda9696",
   "metadata": {},
   "source": [
    "## Adding text styles using Markdown\n",
    "\n",
    "Adding explanations using text cells (like this one) is a great way to make your notebook informative for other readers. It is also useful if you need to refer back to it in the future. You can double click on a text cell within Jupyter to edit it. In the edit mode, you'll notice that the text looks slightly different (for instance, the heading has a `##` prefix. This text is written using Markdown, a simple way to add styles to your text. Execute this cell to see the output without the special characters. You can switch back and forth between the source and the output to apply a specific style.\n",
    "\n",
    "For instance, you can use one or more `#` characters at the start of a line to create headers of different sizes:\n",
    "\n",
    "# Header 1\n",
    "\n",
    "## Header 2\n",
    "\n",
    "### Header 3\n",
    "\n",
    "#### Header 4\n",
    "\n",
    "To create a bulleted or numbered list, simply start a line with `*` or `1.`.\n",
    "\n",
    "A bulleted list:\n",
    "\n",
    "* Item 1\n",
    "* Item 2\n",
    "* Item 3\n",
    "\n",
    "A numbered list:\n",
    "\n",
    "1. Apple\n",
    "2. Banana\n",
    "3. Pineapple\n",
    "\n",
    "You can make some text bold using `**`, e.g., **some bold text**, or make it italic using `*`, e.g., *some italic text.* You can also create links, e.g., [a link](https://jovian.ai). Images are easily embedded too:\n",
    "\n",
    "![](https://i.imgur.com/3gjZMYK.png)\n",
    "\n",
    "Another really nice feature of Markdown is the ability to include blocks of code. Note that code blocks inside Markdown cells cannot be executed.\n",
    "\n",
    "```\n",
    "# Perform the required calculations\n",
    "profit_per_bag = cost_of_ice_bag * profit_margin\n",
    "total_profit = number_of_bags * profit_per_bag\n",
    "\n",
    "# Display the result\n",
    "print(\"The grocery store makes a total profit of $\", total_profit)\n",
    "\n",
    "```\n",
    "\n",
    "You can learn the full syntax of Markdown here: https://learnxinyminutes.com/docs/markdown/"
   ]
  },
  {
   "cell_type": "code",
   "execution_count": 26,
   "id": "f3b4cb56",
   "metadata": {},
   "outputs": [],
   "source": [
    "my_favorite_color = \"blue\""
   ]
  },
  {
   "cell_type": "code",
   "execution_count": 27,
   "id": "1e8a9a12",
   "metadata": {},
   "outputs": [
    {
     "data": {
      "text/plain": [
       "'blue'"
      ]
     },
     "execution_count": 27,
     "metadata": {},
     "output_type": "execute_result"
    }
   ],
   "source": [
    "my_favorite_color"
   ]
  },
  {
   "cell_type": "code",
   "execution_count": 36,
   "id": "ffe8d1aa",
   "metadata": {},
   "outputs": [],
   "source": [
    "color1, color2, color3 = \"red\", \"green\", \"blue\""
   ]
  },
  {
   "cell_type": "code",
   "execution_count": 37,
   "id": "2c2fb6ec",
   "metadata": {},
   "outputs": [
    {
     "data": {
      "text/plain": [
       "'red'"
      ]
     },
     "execution_count": 37,
     "metadata": {},
     "output_type": "execute_result"
    }
   ],
   "source": [
    "color1"
   ]
  },
  {
   "cell_type": "code",
   "execution_count": 38,
   "id": "5801e081",
   "metadata": {},
   "outputs": [
    {
     "data": {
      "text/plain": [
       "'green'"
      ]
     },
     "execution_count": 38,
     "metadata": {},
     "output_type": "execute_result"
    }
   ],
   "source": [
    "color2"
   ]
  },
  {
   "cell_type": "code",
   "execution_count": 39,
   "id": "6a59354b",
   "metadata": {},
   "outputs": [
    {
     "data": {
      "text/plain": [
       "'blue'"
      ]
     },
     "execution_count": 39,
     "metadata": {},
     "output_type": "execute_result"
    }
   ],
   "source": [
    "color3"
   ]
  },
  {
   "cell_type": "code",
   "execution_count": 40,
   "id": "66eb0b3d",
   "metadata": {},
   "outputs": [],
   "source": [
    "color4 = color5 = color6 = \"magenta\""
   ]
  },
  {
   "cell_type": "code",
   "execution_count": 41,
   "id": "638c6286",
   "metadata": {},
   "outputs": [
    {
     "data": {
      "text/plain": [
       "'magenta'"
      ]
     },
     "execution_count": 41,
     "metadata": {},
     "output_type": "execute_result"
    }
   ],
   "source": [
    "color4"
   ]
  },
  {
   "cell_type": "code",
   "execution_count": 42,
   "id": "f03263fd",
   "metadata": {},
   "outputs": [
    {
     "data": {
      "text/plain": [
       "'magenta'"
      ]
     },
     "execution_count": 42,
     "metadata": {},
     "output_type": "execute_result"
    }
   ],
   "source": [
    "color5"
   ]
  },
  {
   "cell_type": "code",
   "execution_count": 43,
   "id": "ae5fe0e9",
   "metadata": {},
   "outputs": [
    {
     "data": {
      "text/plain": [
       "'magenta'"
      ]
     },
     "execution_count": 43,
     "metadata": {},
     "output_type": "execute_result"
    }
   ],
   "source": [
    "color6"
   ]
  },
  {
   "cell_type": "code",
   "execution_count": 46,
   "id": "252ab845",
   "metadata": {},
   "outputs": [],
   "source": [
    "my_favorite_color = \"red\""
   ]
  },
  {
   "cell_type": "markdown",
   "id": "fc9496d2",
   "metadata": {},
   "source": [
    "**When we re-assign a variable, new value is displayed.**"
   ]
  },
  {
   "cell_type": "code",
   "execution_count": 47,
   "id": "6231a630",
   "metadata": {},
   "outputs": [
    {
     "data": {
      "text/plain": [
       "'red'"
      ]
     },
     "execution_count": 47,
     "metadata": {},
     "output_type": "execute_result"
    }
   ],
   "source": [
    "my_favorite_color"
   ]
  },
  {
   "cell_type": "code",
   "execution_count": 48,
   "id": "3642e52c",
   "metadata": {},
   "outputs": [],
   "source": [
    "number = 5"
   ]
  },
  {
   "cell_type": "code",
   "execution_count": 49,
   "id": "b1cdb1f5",
   "metadata": {},
   "outputs": [],
   "source": [
    "number = number + 2"
   ]
  },
  {
   "cell_type": "markdown",
   "id": "dd8482d9",
   "metadata": {},
   "source": [
    "*Which is similar to number += 2*"
   ]
  },
  {
   "cell_type": "code",
   "execution_count": 51,
   "id": "f19ccee3",
   "metadata": {},
   "outputs": [
    {
     "data": {
      "text/plain": [
       "7"
      ]
     },
     "execution_count": 51,
     "metadata": {},
     "output_type": "execute_result"
    }
   ],
   "source": [
    "number"
   ]
  },
  {
   "cell_type": "markdown",
   "id": "e965efb7",
   "metadata": {},
   "source": [
    "*Variable name are case sensative. It must start with letter or underscore. It can not start with number. No special character other than underscore*"
   ]
  },
  {
   "cell_type": "code",
   "execution_count": 53,
   "id": "d35faf6e",
   "metadata": {},
   "outputs": [],
   "source": [
    "a_variable = 23"
   ]
  },
  {
   "cell_type": "code",
   "execution_count": 54,
   "id": "ee9e142d",
   "metadata": {},
   "outputs": [
    {
     "data": {
      "text/plain": [
       "int"
      ]
     },
     "execution_count": 54,
     "metadata": {},
     "output_type": "execute_result"
    }
   ],
   "source": [
    "type(a_variable)"
   ]
  },
  {
   "cell_type": "code",
   "execution_count": 58,
   "id": "e317f77d",
   "metadata": {},
   "outputs": [],
   "source": [
    "is_today_saturday = False"
   ]
  },
  {
   "cell_type": "code",
   "execution_count": 60,
   "id": "e6fc4676",
   "metadata": {},
   "outputs": [
    {
     "data": {
      "text/plain": [
       "bool"
      ]
     },
     "execution_count": 60,
     "metadata": {},
     "output_type": "execute_result"
    }
   ],
   "source": [
    "type(is_today_saturday)"
   ]
  },
  {
   "cell_type": "code",
   "execution_count": 63,
   "id": "6ddd4e43",
   "metadata": {},
   "outputs": [],
   "source": [
    "my_favorite_car = \"volvo\""
   ]
  },
  {
   "cell_type": "code",
   "execution_count": 64,
   "id": "7649051c",
   "metadata": {},
   "outputs": [
    {
     "data": {
      "text/plain": [
       "str"
      ]
     },
     "execution_count": 64,
     "metadata": {},
     "output_type": "execute_result"
    }
   ],
   "source": [
    "type(my_favorite_car)"
   ]
  },
  {
   "cell_type": "code",
   "execution_count": 65,
   "id": "14a01ce5",
   "metadata": {},
   "outputs": [],
   "source": [
    "subject = ['math', \"physica\", \"chemistry\"]"
   ]
  },
  {
   "cell_type": "code",
   "execution_count": 66,
   "id": "83234de8",
   "metadata": {},
   "outputs": [
    {
     "data": {
      "text/plain": [
       "list"
      ]
     },
     "execution_count": 66,
     "metadata": {},
     "output_type": "execute_result"
    }
   ],
   "source": [
    "type(subject)"
   ]
  },
  {
   "cell_type": "markdown",
   "id": "6e171a02",
   "metadata": {},
   "source": [
    "Python has the following built-in data types for storing information in variables.\n",
    "\n",
    "1. Integer\n",
    "2. Float\n",
    "3. Boolean\n",
    "4. None\n",
    "5. String\n",
    "6. List\n",
    "7. Tuple\n",
    "8. Dictionary"
   ]
  },
  {
   "cell_type": "code",
   "execution_count": 67,
   "id": "6a417f32",
   "metadata": {},
   "outputs": [],
   "source": [
    "pi = 22/7"
   ]
  },
  {
   "cell_type": "code",
   "execution_count": 68,
   "id": "aec87c19",
   "metadata": {},
   "outputs": [
    {
     "data": {
      "text/plain": [
       "3.142857142857143"
      ]
     },
     "execution_count": 68,
     "metadata": {},
     "output_type": "execute_result"
    }
   ],
   "source": [
    "pi"
   ]
  },
  {
   "cell_type": "code",
   "execution_count": 69,
   "id": "e8882396",
   "metadata": {},
   "outputs": [
    {
     "data": {
      "text/plain": [
       "3"
      ]
     },
     "execution_count": 69,
     "metadata": {},
     "output_type": "execute_result"
    }
   ],
   "source": [
    "int(pi)"
   ]
  },
  {
   "cell_type": "code",
   "execution_count": 70,
   "id": "6a295c90",
   "metadata": {},
   "outputs": [
    {
     "data": {
      "text/plain": [
       "3.0"
      ]
     },
     "execution_count": 70,
     "metadata": {},
     "output_type": "execute_result"
    }
   ],
   "source": [
    "float(int(pi))"
   ]
  },
  {
   "cell_type": "code",
   "execution_count": 71,
   "id": "fa746b0a",
   "metadata": {},
   "outputs": [
    {
     "data": {
      "text/plain": [
       "float"
      ]
     },
     "execution_count": 71,
     "metadata": {},
     "output_type": "execute_result"
    }
   ],
   "source": [
    "# in a mathematical operation if any of the number is float, the\n",
    "# result will be considered as float.\n",
    "\n",
    "type(35 * 3.0)"
   ]
  },
  {
   "cell_type": "code",
   "execution_count": 75,
   "id": "e02f8818",
   "metadata": {},
   "outputs": [
    {
     "data": {
      "text/plain": [
       "0"
      ]
     },
     "execution_count": 75,
     "metadata": {},
     "output_type": "execute_result"
    }
   ],
   "source": [
    "\"\"\"Boolean automatically converts to integer in arithematic operation.\n",
    "True = 1 and False = 2\"\"\"\n",
    "\n",
    "7 * False"
   ]
  },
  {
   "cell_type": "code",
   "execution_count": 78,
   "id": "244f2b56",
   "metadata": {},
   "outputs": [
    {
     "data": {
      "text/plain": [
       "6.0"
      ]
     },
     "execution_count": 78,
     "metadata": {},
     "output_type": "execute_result"
    }
   ],
   "source": [
    "5. + True"
   ]
  },
  {
   "cell_type": "code",
   "execution_count": 76,
   "id": "0efc3860",
   "metadata": {},
   "outputs": [
    {
     "data": {
      "text/plain": [
       "7"
      ]
     },
     "execution_count": 76,
     "metadata": {},
     "output_type": "execute_result"
    }
   ],
   "source": [
    "7 * True"
   ]
  },
  {
   "cell_type": "code",
   "execution_count": 213,
   "id": "534aaf77",
   "metadata": {},
   "outputs": [
    {
     "data": {
      "text/plain": [
       "True"
      ]
     },
     "execution_count": 213,
     "metadata": {},
     "output_type": "execute_result"
    }
   ],
   "source": [
    "price = 102\n",
    "item_is_expensive = price >= 100\n",
    "item_is_expensive"
   ]
  },
  {
   "cell_type": "markdown",
   "id": "abe40cbc",
   "metadata": {},
   "source": [
    "Any value in Python can be converted to Boolean using bool function.\n",
    "Only the following values evaluated as False (they are also called falsy values)\n",
    "* The value False itself\n",
    "* zeor (integer and float)\n",
    "* None\n",
    "* Empty string (\"\"), list, dictionary, tuple, set and range."
   ]
  },
  {
   "cell_type": "code",
   "execution_count": 1,
   "id": "972af071",
   "metadata": {},
   "outputs": [],
   "source": [
    "# string\n",
    "favorite_movie = 'Ayaan\\'s favorite movie is Frozen'\n",
    "favorite_movie_1 = \"Ayaan's favorite movie is Frozen\""
   ]
  },
  {
   "cell_type": "code",
   "execution_count": 4,
   "id": "b221a401",
   "metadata": {},
   "outputs": [
    {
     "data": {
      "text/plain": [
       "\"Ayaan's favorite movie is Frozen\""
      ]
     },
     "execution_count": 4,
     "metadata": {},
     "output_type": "execute_result"
    }
   ],
   "source": [
    "favorite_movie"
   ]
  },
  {
   "cell_type": "code",
   "execution_count": 5,
   "id": "25c33eaf",
   "metadata": {},
   "outputs": [
    {
     "data": {
      "text/plain": [
       "\"Rishan' ball is blue\""
      ]
     },
     "execution_count": 5,
     "metadata": {},
     "output_type": "execute_result"
    }
   ],
   "source": [
    "a = 'Rishan\\' ball is blue'\n",
    "a"
   ]
  },
  {
   "cell_type": "code",
   "execution_count": 6,
   "id": "735958b5",
   "metadata": {},
   "outputs": [],
   "source": [
    "multiline_string = \"\"\"a\n",
    "b\"\"\""
   ]
  },
  {
   "cell_type": "code",
   "execution_count": 7,
   "id": "3b3194fb",
   "metadata": {},
   "outputs": [
    {
     "data": {
      "text/plain": [
       "3"
      ]
     },
     "execution_count": 7,
     "metadata": {},
     "output_type": "execute_result"
    }
   ],
   "source": [
    "len(multiline_string)"
   ]
  },
  {
   "cell_type": "code",
   "execution_count": 8,
   "id": "d4b3406c",
   "metadata": {},
   "outputs": [],
   "source": [
    "multiline_string_1 = \"a\\nb\""
   ]
  },
  {
   "cell_type": "code",
   "execution_count": 9,
   "id": "6158e50a",
   "metadata": {},
   "outputs": [
    {
     "data": {
      "text/plain": [
       "3"
      ]
     },
     "execution_count": 9,
     "metadata": {},
     "output_type": "execute_result"
    }
   ],
   "source": [
    "len(multiline_string_1)"
   ]
  },
  {
   "cell_type": "markdown",
   "id": "302b4286",
   "metadata": {},
   "source": [
    "#### Enter, space and newline are consider as character in python"
   ]
  },
  {
   "cell_type": "code",
   "execution_count": 10,
   "id": "66ea2732",
   "metadata": {},
   "outputs": [],
   "source": [
    "string_1 = \"a b\""
   ]
  },
  {
   "cell_type": "code",
   "execution_count": 11,
   "id": "d7c16223",
   "metadata": {},
   "outputs": [
    {
     "data": {
      "text/plain": [
       "3"
      ]
     },
     "execution_count": 11,
     "metadata": {},
     "output_type": "execute_result"
    }
   ],
   "source": [
    "len(string_1)"
   ]
  },
  {
   "cell_type": "code",
   "execution_count": 16,
   "id": "43497438",
   "metadata": {},
   "outputs": [
    {
     "data": {
      "text/plain": [
       "['a', '\\n', 'b']"
      ]
     },
     "execution_count": 16,
     "metadata": {},
     "output_type": "execute_result"
    }
   ],
   "source": [
    "list(multiline_string) # enter is considered as a separate character in the list"
   ]
  },
  {
   "cell_type": "code",
   "execution_count": 12,
   "id": "25eb80a7",
   "metadata": {},
   "outputs": [
    {
     "data": {
      "text/plain": [
       "['a', '\\n', 'b']"
      ]
     },
     "execution_count": 12,
     "metadata": {},
     "output_type": "execute_result"
    }
   ],
   "source": [
    "list(multiline_string_1) # see, newline is considered as separate character in the list"
   ]
  },
  {
   "cell_type": "code",
   "execution_count": 14,
   "id": "8e2ef48e",
   "metadata": {},
   "outputs": [
    {
     "data": {
      "text/plain": [
       "['a', ' ', 'b']"
      ]
     },
     "execution_count": 14,
     "metadata": {},
     "output_type": "execute_result"
    }
   ],
   "source": [
    "list(string_1) # see, space is considered as a separate character in the list"
   ]
  },
  {
   "cell_type": "code",
   "execution_count": 17,
   "id": "26efedde",
   "metadata": {},
   "outputs": [],
   "source": [
    "Today = \"Sunday\""
   ]
  },
  {
   "cell_type": "code",
   "execution_count": 18,
   "id": "ea235e1a",
   "metadata": {},
   "outputs": [
    {
     "data": {
      "text/plain": [
       "'S'"
      ]
     },
     "execution_count": 18,
     "metadata": {},
     "output_type": "execute_result"
    }
   ],
   "source": [
    "Today[0]"
   ]
  },
  {
   "cell_type": "code",
   "execution_count": 24,
   "id": "9cda99c0",
   "metadata": {},
   "outputs": [
    {
     "data": {
      "text/plain": [
       "'day'"
      ]
     },
     "execution_count": 24,
     "metadata": {},
     "output_type": "execute_result"
    }
   ],
   "source": [
    "Today[3:6] # last index number is not taken"
   ]
  },
  {
   "cell_type": "code",
   "execution_count": 28,
   "id": "e056af9f",
   "metadata": {},
   "outputs": [
    {
     "data": {
      "text/plain": [
       "True"
      ]
     },
     "execution_count": 28,
     "metadata": {},
     "output_type": "execute_result"
    }
   ],
   "source": [
    "\"day\" in Today # note, part of one word can be used to search if it is in the word."
   ]
  },
  {
   "cell_type": "code",
   "execution_count": 27,
   "id": "a417018e",
   "metadata": {},
   "outputs": [
    {
     "data": {
      "text/plain": [
       "False"
      ]
     },
     "execution_count": 27,
     "metadata": {},
     "output_type": "execute_result"
    }
   ],
   "source": [
    "\"Mon\" in Today"
   ]
  },
  {
   "cell_type": "code",
   "execution_count": 29,
   "id": "2b302822",
   "metadata": {},
   "outputs": [],
   "source": [
    "first_name = \"Muhammad\""
   ]
  },
  {
   "cell_type": "code",
   "execution_count": 30,
   "id": "4dc7e6c3",
   "metadata": {},
   "outputs": [],
   "source": [
    "last_name = \"Alam\""
   ]
  },
  {
   "cell_type": "code",
   "execution_count": 42,
   "id": "ad6c1b5c",
   "metadata": {},
   "outputs": [],
   "source": [
    "greeting = \"hi\""
   ]
  },
  {
   "cell_type": "code",
   "execution_count": 43,
   "id": "5636f796",
   "metadata": {},
   "outputs": [],
   "source": [
    "Text = greeting + ' '+ first_name + \" \" + last_name # while concatening strings do not forget to add extra space to separate strings."
   ]
  },
  {
   "cell_type": "code",
   "execution_count": 44,
   "id": "a0d64937",
   "metadata": {},
   "outputs": [
    {
     "data": {
      "text/plain": [
       "'hi Muhammad Alam'"
      ]
     },
     "execution_count": 44,
     "metadata": {},
     "output_type": "execute_result"
    }
   ],
   "source": [
    "Text"
   ]
  },
  {
   "cell_type": "markdown",
   "id": "41407b83",
   "metadata": {},
   "source": [
    "##### Method are function associated with data type, which can be accessed using dot(.) notation."
   ]
  },
  {
   "cell_type": "code",
   "execution_count": 45,
   "id": "385e47b5",
   "metadata": {},
   "outputs": [
    {
     "data": {
      "text/plain": [
       "'hi muhammad alam'"
      ]
     },
     "execution_count": 45,
     "metadata": {},
     "output_type": "execute_result"
    }
   ],
   "source": [
    "Text.lower()"
   ]
  },
  {
   "cell_type": "code",
   "execution_count": 46,
   "id": "d24dc7bf",
   "metadata": {},
   "outputs": [
    {
     "data": {
      "text/plain": [
       "'HI MUHAMMAD ALAM'"
      ]
     },
     "execution_count": 46,
     "metadata": {},
     "output_type": "execute_result"
    }
   ],
   "source": [
    "Text.upper()"
   ]
  },
  {
   "cell_type": "code",
   "execution_count": 49,
   "id": "58c066c0",
   "metadata": {},
   "outputs": [
    {
     "data": {
      "text/plain": [
       "'Hello Muhammad Alam'"
      ]
     },
     "execution_count": 49,
     "metadata": {},
     "output_type": "execute_result"
    }
   ],
   "source": [
    "Text.replace(\"hi\", \"Hello\")"
   ]
  },
  {
   "cell_type": "code",
   "execution_count": 50,
   "id": "ce9d84c4",
   "metadata": {},
   "outputs": [
    {
     "data": {
      "text/plain": [
       "'Hi muhammad alam'"
      ]
     },
     "execution_count": 50,
     "metadata": {},
     "output_type": "execute_result"
    }
   ],
   "source": [
    "Text.capitalize()"
   ]
  },
  {
   "cell_type": "code",
   "execution_count": 76,
   "id": "a5b391cf",
   "metadata": {},
   "outputs": [
    {
     "data": {
      "text/plain": [
       "'Monday'"
      ]
     },
     "execution_count": 76,
     "metadata": {},
     "output_type": "execute_result"
    }
   ],
   "source": [
    "Today.replace(\"Sun\", \"Mon\") # replace method can even be used to replace part of a word"
   ]
  },
  {
   "cell_type": "code",
   "execution_count": 77,
   "id": "2ceb5d4a",
   "metadata": {},
   "outputs": [
    {
     "data": {
      "text/plain": [
       "'Sunday'"
      ]
     },
     "execution_count": 77,
     "metadata": {},
     "output_type": "execute_result"
    }
   ],
   "source": [
    "Today # note, method does not modify the original string"
   ]
  },
  {
   "cell_type": "code",
   "execution_count": 215,
   "id": "f69fe2d5",
   "metadata": {},
   "outputs": [
    {
     "data": {
      "text/plain": [
       "'hi Muhammad Alam'"
      ]
     },
     "execution_count": 215,
     "metadata": {},
     "output_type": "execute_result"
    }
   ],
   "source": [
    "Text # string method does not modify the original string"
   ]
  },
  {
   "cell_type": "code",
   "execution_count": 224,
   "id": "04ee0aef",
   "metadata": {},
   "outputs": [],
   "source": [
    "Text_1 = \" Sam, how are you today? \" # strip method is used to remove space and newlines "
   ]
  },
  {
   "cell_type": "code",
   "execution_count": 225,
   "id": "d33909d6",
   "metadata": {},
   "outputs": [
    {
     "data": {
      "text/plain": [
       "'Sam, how are you today?'"
      ]
     },
     "execution_count": 225,
     "metadata": {},
     "output_type": "execute_result"
    }
   ],
   "source": [
    "Text_1.strip()"
   ]
  },
  {
   "cell_type": "code",
   "execution_count": 84,
   "id": "99b8e29c",
   "metadata": {},
   "outputs": [
    {
     "name": "stdout",
     "output_type": "stream",
     "text": [
      "The store makes a total profit of $ 125.0\n"
     ]
    }
   ],
   "source": [
    "cost_of_ice_bag = 1.25\n",
    "profit_margin = 0.2\n",
    "number_of_bags = 500\n",
    "\n",
    "# Perform the required calculations\n",
    "profit_per_bag = cost_of_ice_bag * profit_margin\n",
    "total_profit = number_of_bags * profit_per_bag\n",
    "\n",
    "# Display the result\n",
    "print(\"The store makes a total profit of $\", total_profit)"
   ]
  },
  {
   "cell_type": "code",
   "execution_count": 86,
   "id": "9c7c29da",
   "metadata": {},
   "outputs": [
    {
     "name": "stdout",
     "output_type": "stream",
     "text": [
      "The store makes a total profit of 125.0 $\n"
     ]
    }
   ],
   "source": [
    "print(\"The store makes a total profit of {} $\".format(total_profit)) # format method is used to add other data type in a string"
   ]
  },
  {
   "cell_type": "code",
   "execution_count": 88,
   "id": "ff97fae1",
   "metadata": {},
   "outputs": [],
   "source": [
    "# comparision operator\n",
    "Apple = \"red\""
   ]
  },
  {
   "cell_type": "code",
   "execution_count": 89,
   "id": "6963fa57",
   "metadata": {},
   "outputs": [
    {
     "data": {
      "text/plain": [
       "True"
      ]
     },
     "execution_count": 89,
     "metadata": {},
     "output_type": "execute_result"
    }
   ],
   "source": [
    "Apple == 'red'"
   ]
  },
  {
   "cell_type": "code",
   "execution_count": 90,
   "id": "60d49866",
   "metadata": {},
   "outputs": [
    {
     "data": {
      "text/plain": [
       "False"
      ]
     },
     "execution_count": 90,
     "metadata": {},
     "output_type": "execute_result"
    }
   ],
   "source": [
    "Apple == \"green\""
   ]
  },
  {
   "cell_type": "code",
   "execution_count": 91,
   "id": "bc48b66d",
   "metadata": {},
   "outputs": [
    {
     "data": {
      "text/plain": [
       "True"
      ]
     },
     "execution_count": 91,
     "metadata": {},
     "output_type": "execute_result"
    }
   ],
   "source": [
    "Apple != \"pink\""
   ]
  },
  {
   "cell_type": "code",
   "execution_count": 92,
   "id": "1362a7aa",
   "metadata": {},
   "outputs": [],
   "source": [
    "# List\n",
    "fruits = [\"Apple\", \"Orange\", \"Mango\", \"Banana\"]"
   ]
  },
  {
   "cell_type": "code",
   "execution_count": 93,
   "id": "409a5566",
   "metadata": {},
   "outputs": [],
   "source": [
    "list_1 = [2, 3.2, fruits, 2 <= 5, \"Cherry\", None]"
   ]
  },
  {
   "cell_type": "code",
   "execution_count": 96,
   "id": "5a4c989b",
   "metadata": {},
   "outputs": [
    {
     "data": {
      "text/plain": [
       "[2, 3.2, ['Apple', 'Orange', 'Mango', 'Banana'], True, 'Cherry', None]"
      ]
     },
     "execution_count": 96,
     "metadata": {},
     "output_type": "execute_result"
    }
   ],
   "source": [
    "list_1 # list can be a combination of all different types of data"
   ]
  },
  {
   "cell_type": "code",
   "execution_count": 97,
   "id": "869fb94a",
   "metadata": {},
   "outputs": [
    {
     "data": {
      "text/plain": [
       "['Apple', 'Orange', 'Mango', 'Banana']"
      ]
     },
     "execution_count": 97,
     "metadata": {},
     "output_type": "execute_result"
    }
   ],
   "source": [
    "list_1[2]"
   ]
  },
  {
   "cell_type": "code",
   "execution_count": 98,
   "id": "296503d4",
   "metadata": {},
   "outputs": [
    {
     "data": {
      "text/plain": [
       "6"
      ]
     },
     "execution_count": 98,
     "metadata": {},
     "output_type": "execute_result"
    }
   ],
   "source": [
    "len(list_1)"
   ]
  },
  {
   "cell_type": "code",
   "execution_count": 103,
   "id": "90f43ace",
   "metadata": {},
   "outputs": [
    {
     "data": {
      "text/plain": [
       "'Cherry'"
      ]
     },
     "execution_count": 103,
     "metadata": {},
     "output_type": "execute_result"
    }
   ],
   "source": [
    "list_1[-2]"
   ]
  },
  {
   "cell_type": "code",
   "execution_count": 105,
   "id": "79dd5eaa",
   "metadata": {},
   "outputs": [
    {
     "data": {
      "text/plain": [
       "True"
      ]
     },
     "execution_count": 105,
     "metadata": {},
     "output_type": "execute_result"
    }
   ],
   "source": [
    "list_1[-3] # indexing of list, 0, 1, 2, 3 ......,// .......-3, -2, -1"
   ]
  },
  {
   "cell_type": "code",
   "execution_count": 106,
   "id": "640f0055",
   "metadata": {},
   "outputs": [
    {
     "data": {
      "text/plain": [
       "2"
      ]
     },
     "execution_count": 106,
     "metadata": {},
     "output_type": "execute_result"
    }
   ],
   "source": [
    "list_1[-6]"
   ]
  },
  {
   "cell_type": "code",
   "execution_count": 107,
   "id": "4b0158f0",
   "metadata": {},
   "outputs": [
    {
     "data": {
      "text/plain": [
       "2"
      ]
     },
     "execution_count": 107,
     "metadata": {},
     "output_type": "execute_result"
    }
   ],
   "source": [
    "list_1[0]"
   ]
  },
  {
   "cell_type": "code",
   "execution_count": 114,
   "id": "f22c2dd9",
   "metadata": {},
   "outputs": [
    {
     "data": {
      "text/plain": [
       "['Apple', 'Blueberry', 'Mango', 'Banana']"
      ]
     },
     "execution_count": 114,
     "metadata": {},
     "output_type": "execute_result"
    }
   ],
   "source": [
    "list_1[2]"
   ]
  },
  {
   "cell_type": "code",
   "execution_count": 216,
   "id": "f0c373d0",
   "metadata": {},
   "outputs": [],
   "source": [
    "list_1[2][1] = \"Blueberry\" # this is how you can replace element in a list, however to add, need to use append method.\n",
    "                            # However, \"text.replace(a, b)\" is used to replace text or part of the text in a string."
   ]
  },
  {
   "cell_type": "code",
   "execution_count": 113,
   "id": "f47197aa",
   "metadata": {},
   "outputs": [
    {
     "data": {
      "text/plain": [
       "['Apple', 'Blueberry', 'Mango', 'Banana']"
      ]
     },
     "execution_count": 113,
     "metadata": {},
     "output_type": "execute_result"
    }
   ],
   "source": [
    "list_1[2]"
   ]
  },
  {
   "cell_type": "code",
   "execution_count": 119,
   "id": "a838c085",
   "metadata": {},
   "outputs": [],
   "source": [
    "list_1[2][3] = 'Strawberry'"
   ]
  },
  {
   "cell_type": "code",
   "execution_count": 117,
   "id": "272174fe",
   "metadata": {},
   "outputs": [
    {
     "data": {
      "text/plain": [
       "['Apple', 'Blueberry', 'Mango', 'Strawberry']"
      ]
     },
     "execution_count": 117,
     "metadata": {},
     "output_type": "execute_result"
    }
   ],
   "source": [
    "list_1[2]"
   ]
  },
  {
   "cell_type": "code",
   "execution_count": 227,
   "id": "9cae33ff",
   "metadata": {},
   "outputs": [],
   "source": [
    "list_1[2].append(\"Banana\") # append is used to include an item at the end of the list"
   ]
  },
  {
   "cell_type": "code",
   "execution_count": 127,
   "id": "78fd4b96",
   "metadata": {},
   "outputs": [
    {
     "data": {
      "text/plain": [
       "['Apple', 'Blueberry', 'Mango', 'Strawberry', 'Banana']"
      ]
     },
     "execution_count": 127,
     "metadata": {},
     "output_type": "execute_result"
    }
   ],
   "source": [
    "list_1[2]"
   ]
  },
  {
   "cell_type": "code",
   "execution_count": 130,
   "id": "492f8249",
   "metadata": {},
   "outputs": [],
   "source": [
    "# how to delete item from a list?"
   ]
  },
  {
   "cell_type": "code",
   "execution_count": 131,
   "id": "a84099bc",
   "metadata": {},
   "outputs": [],
   "source": [
    "list_1[2].remove(\"Blueberry\")"
   ]
  },
  {
   "cell_type": "code",
   "execution_count": 132,
   "id": "648a30d3",
   "metadata": {},
   "outputs": [
    {
     "data": {
      "text/plain": [
       "['Apple', 'Mango', 'Strawberry', 'Banana']"
      ]
     },
     "execution_count": 132,
     "metadata": {},
     "output_type": "execute_result"
    }
   ],
   "source": [
    "list_1[2]"
   ]
  },
  {
   "cell_type": "code",
   "execution_count": 133,
   "id": "b81cd213",
   "metadata": {},
   "outputs": [],
   "source": [
    "list_1[2].insert(1, \"Blueberry\") # insert takes an index and put the item in that position"
   ]
  },
  {
   "cell_type": "code",
   "execution_count": 134,
   "id": "fe3775cd",
   "metadata": {},
   "outputs": [
    {
     "data": {
      "text/plain": [
       "['Apple', 'Blueberry', 'Mango', 'Strawberry', 'Banana']"
      ]
     },
     "execution_count": 134,
     "metadata": {},
     "output_type": "execute_result"
    }
   ],
   "source": [
    "list_1[2]"
   ]
  },
  {
   "cell_type": "code",
   "execution_count": 226,
   "id": "0acabaf5",
   "metadata": {},
   "outputs": [
    {
     "data": {
      "text/plain": [
       "'Blueberry'"
      ]
     },
     "execution_count": 226,
     "metadata": {},
     "output_type": "execute_result"
    }
   ],
   "source": [
    "list_1[2].pop(1) # pop remove item from the mentioned index"
   ]
  },
  {
   "cell_type": "code",
   "execution_count": 136,
   "id": "2d1c575e",
   "metadata": {},
   "outputs": [
    {
     "data": {
      "text/plain": [
       "['Apple', 'Mango', 'Strawberry', 'Banana']"
      ]
     },
     "execution_count": 136,
     "metadata": {},
     "output_type": "execute_result"
    }
   ],
   "source": [
    "list_1[2]"
   ]
  },
  {
   "cell_type": "code",
   "execution_count": 139,
   "id": "1cb8f471",
   "metadata": {},
   "outputs": [],
   "source": [
    "a = \"Sunday\""
   ]
  },
  {
   "cell_type": "code",
   "execution_count": 140,
   "id": "66c2755a",
   "metadata": {},
   "outputs": [
    {
     "data": {
      "text/plain": [
       "'Monday'"
      ]
     },
     "execution_count": 140,
     "metadata": {},
     "output_type": "execute_result"
    }
   ],
   "source": [
    "a.replace('Sun', \"Mon\")"
   ]
  },
  {
   "cell_type": "code",
   "execution_count": 141,
   "id": "519f5d79",
   "metadata": {},
   "outputs": [
    {
     "data": {
      "text/plain": [
       "'Sunday'"
      ]
     },
     "execution_count": 141,
     "metadata": {},
     "output_type": "execute_result"
    }
   ],
   "source": [
    "a"
   ]
  },
  {
   "cell_type": "code",
   "execution_count": 142,
   "id": "901807dd",
   "metadata": {},
   "outputs": [
    {
     "data": {
      "text/plain": [
       "True"
      ]
     },
     "execution_count": 142,
     "metadata": {},
     "output_type": "execute_result"
    }
   ],
   "source": [
    "\"Apple\" in list_1[2]"
   ]
  },
  {
   "cell_type": "code",
   "execution_count": 154,
   "id": "cf6a3a80",
   "metadata": {},
   "outputs": [],
   "source": [
    "new_list = list_1[2] + [\"Pear\", \"Cherry\"] + ['Jackfruit', \"Guava\"] # list can be added (but not with string) with a list using \"+\" sign. "
   ]
  },
  {
   "cell_type": "code",
   "execution_count": 155,
   "id": "35fe35d4",
   "metadata": {},
   "outputs": [
    {
     "data": {
      "text/plain": [
       "['Apple', 'Banana', 'Strawberry', 'Pear', 'Cherry', 'Jackfruit', 'Guava']"
      ]
     },
     "execution_count": 155,
     "metadata": {},
     "output_type": "execute_result"
    }
   ],
   "source": [
    "new_list"
   ]
  },
  {
   "cell_type": "markdown",
   "id": "bb49a7b4",
   "metadata": {},
   "source": [
    "##### Further Study:\n",
    "* Reverse the order of elements in a list\n",
    "* Add the elements of one list to the end of another list\n",
    "* Sort a list of strings in alphabetical order\n",
    "* Sort a list of numbers in decreasing order"
   ]
  },
  {
   "cell_type": "markdown",
   "id": "bc83a0ea",
   "metadata": {},
   "source": [
    "#### Tuple is similar to list, but can not be modified. Hence, append, remove, pop, insert method are not there for tuple. \n",
    "#### We use it when no one should be allowed to change items in a set."
   ]
  },
  {
   "cell_type": "code",
   "execution_count": 174,
   "id": "fca7016f",
   "metadata": {},
   "outputs": [],
   "source": [
    "# Dictionary\n",
    "student_1 = {\"name\" : \"Rishan\",\n",
    "             \"id\" : 2563,\n",
    "             \"passed\": True,\n",
    "             \"address\" : \"7-Mossberry St\"\n",
    "}"
   ]
  },
  {
   "cell_type": "code",
   "execution_count": 175,
   "id": "6c842bd6",
   "metadata": {},
   "outputs": [
    {
     "data": {
      "text/plain": [
       "{'name': 'Rishan', 'id': 2563, 'passed': True, 'address': '7-Mossberry St'}"
      ]
     },
     "execution_count": 175,
     "metadata": {},
     "output_type": "execute_result"
    }
   ],
   "source": [
    "student_1"
   ]
  },
  {
   "cell_type": "code",
   "execution_count": 176,
   "id": "45b0efe2",
   "metadata": {},
   "outputs": [],
   "source": [
    "student_2 = dict(name = \"Ayaan\", id = 5623, passed = True, addres = \"7-Mossberry St\")"
   ]
  },
  {
   "cell_type": "code",
   "execution_count": 177,
   "id": "38ebfb22",
   "metadata": {},
   "outputs": [
    {
     "data": {
      "text/plain": [
       "dict"
      ]
     },
     "execution_count": 177,
     "metadata": {},
     "output_type": "execute_result"
    }
   ],
   "source": [
    "type(student_1)"
   ]
  },
  {
   "cell_type": "code",
   "execution_count": 178,
   "id": "8a9dfb23",
   "metadata": {},
   "outputs": [
    {
     "data": {
      "text/plain": [
       "'Ayaan'"
      ]
     },
     "execution_count": 178,
     "metadata": {},
     "output_type": "execute_result"
    }
   ],
   "source": [
    "student_2['name']"
   ]
  },
  {
   "cell_type": "code",
   "execution_count": 179,
   "id": "76a37f12",
   "metadata": {},
   "outputs": [
    {
     "data": {
      "text/plain": [
       "True"
      ]
     },
     "execution_count": 179,
     "metadata": {},
     "output_type": "execute_result"
    }
   ],
   "source": [
    "student_1[\"passed\"]"
   ]
  },
  {
   "cell_type": "code",
   "execution_count": 181,
   "id": "2a9a03a5",
   "metadata": {},
   "outputs": [
    {
     "data": {
      "text/plain": [
       "'no_information'"
      ]
     },
     "execution_count": 181,
     "metadata": {},
     "output_type": "execute_result"
    }
   ],
   "source": [
    "student_1.get(\"married\", \"no_information\") # get method is used to avoid getting error message. "
   ]
  },
  {
   "cell_type": "code",
   "execution_count": 182,
   "id": "3515a682",
   "metadata": {},
   "outputs": [
    {
     "data": {
      "text/plain": [
       "True"
      ]
     },
     "execution_count": 182,
     "metadata": {},
     "output_type": "execute_result"
    }
   ],
   "source": [
    "\"name\" in student_1"
   ]
  },
  {
   "cell_type": "code",
   "execution_count": 183,
   "id": "597e9964",
   "metadata": {},
   "outputs": [],
   "source": [
    "student_1['pass'] = \"with distinction\""
   ]
  },
  {
   "cell_type": "code",
   "execution_count": 228,
   "id": "77f45675",
   "metadata": {},
   "outputs": [
    {
     "data": {
      "text/plain": [
       "{'name': 'Rishan',\n",
       " 'id': 2563,\n",
       " 'passed': True,\n",
       " 'address': '7-Mossberry St',\n",
       " 'pass': 'with distinction'}"
      ]
     },
     "execution_count": 228,
     "metadata": {},
     "output_type": "execute_result"
    }
   ],
   "source": [
    "student_1"
   ]
  },
  {
   "cell_type": "code",
   "execution_count": 229,
   "id": "20bb3905",
   "metadata": {},
   "outputs": [],
   "source": [
    "student_1['name'] = \"joye\""
   ]
  },
  {
   "cell_type": "code",
   "execution_count": 230,
   "id": "cbdc2ef9",
   "metadata": {},
   "outputs": [
    {
     "data": {
      "text/plain": [
       "{'name': 'joye',\n",
       " 'id': 2563,\n",
       " 'passed': True,\n",
       " 'address': '7-Mossberry St',\n",
       " 'pass': 'with distinction'}"
      ]
     },
     "execution_count": 230,
     "metadata": {},
     "output_type": "execute_result"
    }
   ],
   "source": [
    "student_1"
   ]
  },
  {
   "cell_type": "code",
   "execution_count": 237,
   "id": "a335f523",
   "metadata": {},
   "outputs": [],
   "source": [
    "student_1[\"married\"] = False     # remember, in a list to add item, you have to use append or insert method\n",
    "                                # item can not added like this in a list. However, the appraoch used in here, can be applied \n",
    "                                # to replace item/value both in a list and a dictionary."
   ]
  },
  {
   "cell_type": "code",
   "execution_count": 232,
   "id": "881a8841",
   "metadata": {},
   "outputs": [
    {
     "data": {
      "text/plain": [
       "{'name': 'joye',\n",
       " 'id': 2563,\n",
       " 'passed': True,\n",
       " 'address': '7-Mossberry St',\n",
       " 'pass': 'with distinction',\n",
       " 'married': False}"
      ]
     },
     "execution_count": 232,
     "metadata": {},
     "output_type": "execute_result"
    }
   ],
   "source": [
    "student_1"
   ]
  },
  {
   "cell_type": "code",
   "execution_count": 198,
   "id": "03ac38d1",
   "metadata": {},
   "outputs": [
    {
     "data": {
      "text/plain": [
       "dict_keys(['name', 'id', 'passed', 'address', 'pass', 'married'])"
      ]
     },
     "execution_count": 198,
     "metadata": {},
     "output_type": "execute_result"
    }
   ],
   "source": [
    "student_1.keys()"
   ]
  },
  {
   "cell_type": "code",
   "execution_count": 199,
   "id": "e194919a",
   "metadata": {},
   "outputs": [
    {
     "data": {
      "text/plain": [
       "dict_values(['Ayaan', 5623, True, '7-Mossberry St'])"
      ]
     },
     "execution_count": 199,
     "metadata": {},
     "output_type": "execute_result"
    }
   ],
   "source": [
    "student_2.values()"
   ]
  },
  {
   "cell_type": "code",
   "execution_count": 200,
   "id": "e190f4ff",
   "metadata": {},
   "outputs": [
    {
     "data": {
      "text/plain": [
       "dict_items([('name', 'Rishan'), ('id', 2563), ('passed', True), ('address', '7-Mossberry St'), ('pass', 'with distinction'), ('married', False)])"
      ]
     },
     "execution_count": 200,
     "metadata": {},
     "output_type": "execute_result"
    }
   ],
   "source": [
    "student_1.items()"
   ]
  },
  {
   "cell_type": "code",
   "execution_count": 201,
   "id": "4701dce6",
   "metadata": {},
   "outputs": [
    {
     "data": {
      "text/plain": [
       "False"
      ]
     },
     "execution_count": 201,
     "metadata": {},
     "output_type": "execute_result"
    }
   ],
   "source": [
    "student_1.pop(\"married\") # like list, pop is used to remove item based on index"
   ]
  },
  {
   "cell_type": "code",
   "execution_count": 202,
   "id": "f3e42d9f",
   "metadata": {},
   "outputs": [
    {
     "data": {
      "text/plain": [
       "{'name': 'Rishan',\n",
       " 'id': 2563,\n",
       " 'passed': True,\n",
       " 'address': '7-Mossberry St',\n",
       " 'pass': 'with distinction'}"
      ]
     },
     "execution_count": 202,
     "metadata": {},
     "output_type": "execute_result"
    }
   ],
   "source": [
    "student_1"
   ]
  },
  {
   "cell_type": "code",
   "execution_count": null,
   "id": "08d92e9b",
   "metadata": {},
   "outputs": [],
   "source": []
  },
  {
   "cell_type": "code",
   "execution_count": null,
   "id": "d4adfbad",
   "metadata": {},
   "outputs": [],
   "source": []
  },
  {
   "cell_type": "code",
   "execution_count": null,
   "id": "0f1eb035",
   "metadata": {},
   "outputs": [],
   "source": []
  }
 ],
 "metadata": {
  "kernelspec": {
   "display_name": "Python 3 (ipykernel)",
   "language": "python",
   "name": "python3"
  },
  "language_info": {
   "codemirror_mode": {
    "name": "ipython",
    "version": 3
   },
   "file_extension": ".py",
   "mimetype": "text/x-python",
   "name": "python",
   "nbconvert_exporter": "python",
   "pygments_lexer": "ipython3",
   "version": "3.11.1"
  }
 },
 "nbformat": 4,
 "nbformat_minor": 5
}
