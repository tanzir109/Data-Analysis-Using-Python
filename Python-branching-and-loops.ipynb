{
 "cells": [
  {
   "cell_type": "markdown",
   "metadata": {},
   "source": [
    "### *This tutorial covers the following topics*:\n",
    "* Branching **if**, **else** and **elif**\n",
    "* Nested conditions and **if** expressions\n",
    "* Iteration with **while loops**\n",
    "* Iterating over containers with **for loops**\n",
    "* **Nested loops, break** and **continue** statements\n"
   ]
  },
  {
   "cell_type": "code",
   "execution_count": 2,
   "metadata": {},
   "outputs": [],
   "source": [
    "list_1 = ('Apple', \"Mango\", \"Pear\", \"Strawberry\")"
   ]
  },
  {
   "cell_type": "code",
   "execution_count": 22,
   "metadata": {},
   "outputs": [],
   "source": [
    "item_1 = \"Lion\""
   ]
  },
  {
   "cell_type": "code",
   "execution_count": 23,
   "metadata": {},
   "outputs": [
    {
     "name": "stdout",
     "output_type": "stream",
     "text": [
      "Lion is not a fruit\n"
     ]
    }
   ],
   "source": [
    "# Note: Like \"if\", \"elif\", must be followed by a condition whereas \"else\"  must stand on its on, no condition. \n",
    "\n",
    "if item_1 in list_1:                          \n",
    "                                               \n",
    "    print(\"{} is a fruit\".format(item_1))\n",
    "else:\n",
    "    print(\"{} is not a fruit\".format(item_1))"
   ]
  },
  {
   "cell_type": "code",
   "execution_count": 24,
   "metadata": {},
   "outputs": [],
   "source": [
    "today = 'Saturday'"
   ]
  },
  {
   "cell_type": "code",
   "execution_count": 25,
   "metadata": {},
   "outputs": [
    {
     "name": "stdout",
     "output_type": "stream",
     "text": [
      "Today is the day of Saturn, the god of fun and feasting.\n"
     ]
    }
   ],
   "source": [
    "# Note: Python will keep checking until it find a condition to be true, once a true condition is found, others will be skipped.\n",
    "\n",
    "if today == 'Sunday':\n",
    "    print(\"Today is the day of the sun.\")\n",
    "elif today == 'Monday':\n",
    "    print(\"Today is the day of the moon.\")\n",
    "elif today == 'Tuesday':\n",
    "    print(\"Today is the day of Tyr, the god of war.\")\n",
    "elif today == 'Wednesday':\n",
    "    print(\"Today is the day of Odin, the supreme diety.\")\n",
    "elif today == 'Thursday':\n",
    "    print(\"Today is the day of Thor, the god of thunder.\")\n",
    "elif today == 'Friday':\n",
    "    print(\"Today is the day of Frigga, the goddess of beauty.\")\n",
    "else:\n",
    "    print(\"Today is the day of Saturn, the god of fun and feasting.\")"
   ]
  },
  {
   "cell_type": "code",
   "execution_count": 26,
   "metadata": {},
   "outputs": [],
   "source": [
    "number_1 = 15"
   ]
  },
  {
   "cell_type": "code",
   "execution_count": 27,
   "metadata": {},
   "outputs": [
    {
     "name": "stdout",
     "output_type": "stream",
     "text": [
      "15 is divisible by 3\n"
     ]
    }
   ],
   "source": [
    "if number_1 % 2 == 0:                                      # meaning remainder while divided by 2 is equal to zero\n",
    "    print(\"{} is divisible by 2\".format(number_1))\n",
    "elif number_1 % 3 == 0:                                    # 15 is also divisible by 5, but it is only evaluating for 3\n",
    "    print(\"{} is divisible by 3\".format(number_1))\n",
    "elif number_1 % 5 == 0:\n",
    "    print(\"{} is divisible by 5\".format(number_1))\n",
    "elif number_1 % 7 == 0:\n",
    "    print(\"{} is divisible by 7\".format(number_1))"
   ]
  },
  {
   "cell_type": "code",
   "execution_count": 28,
   "metadata": {},
   "outputs": [
    {
     "name": "stdout",
     "output_type": "stream",
     "text": [
      "15 is divisible by 3 and 5\n"
     ]
    }
   ],
   "source": [
    "# Note: Now it is saying 15 is divided by 3 and 5 as the corresponding condition appears first. \n",
    "#       \"else\" block is evaluated only when none of the conditions hold true. \n",
    "\n",
    "if number_1 % 2 == 0:                                      \n",
    "    print(\"{} is divisible by 2\".format(number_1))  \n",
    "elif number_1 % 3 == 0 and number_1 % 5 == 0:     \n",
    "    print(\"{} is divisible by 3 and 5\".format(number_1))\n",
    "elif number_1 % 3 == 0:\n",
    "    print(\"{} is divisible by 3\".format(number_1))\n",
    "elif number_1 % 5 == 0:\n",
    "    print(\"{} is divisible by 5\".format(number_1))\n",
    "elif number_1 % 7 == 0:\n",
    "    print(\"{} is divisible by 7\".format(number_1))\n",
    "else: \n",
    "    print(\"{} is not divisible by 2, 3, 5 and 7\".format(number_1))"
   ]
  },
  {
   "cell_type": "markdown",
   "metadata": {},
   "source": [
    "Conditions can also be combined using the logical operators `and`, `or` and `not`. "
   ]
  },
  {
   "cell_type": "code",
   "execution_count": 29,
   "metadata": {},
   "outputs": [],
   "source": [
    "if number_1 % 5 == 0 and not number_1 % 3 == 0 and not number_1 % 2 == 0:\n",
    "    print(\"{} is divisible by 5 but not by 3 and 2\".format(number_1))"
   ]
  },
  {
   "cell_type": "code",
   "execution_count": 30,
   "metadata": {},
   "outputs": [],
   "source": [
    "number_1 = 15"
   ]
  },
  {
   "cell_type": "code",
   "execution_count": 33,
   "metadata": {},
   "outputs": [
    {
     "name": "stdout",
     "output_type": "stream",
     "text": [
      "15 is an odd number\n",
      "15 is divisible by 5\n",
      "15 is divisible by 3\n"
     ]
    }
   ],
   "source": [
    "# Note: In a nested condition, util the first condition holds true, second condition will not be evaluated. \n",
    "#       likewise, if the second condition does not hold true, third condition will not be evaluated. \n",
    "#       try, with the numbers 18, 30, 20 and 6. \n",
    "#       However, for multiple conditions to be evaluated at the same time, better use \"and\". \n",
    "#       every sub-block must start with \"if\", can not use \"elif\" or \"else\", they can be used under same indentation. \n",
    "\n",
    "if number_1 % 2 == 0:\n",
    "    print(\"{} is an even number\".format(number_1))\n",
    "    if number_1 % 5 == 0:\n",
    "        print(\"{} is divisible by 5\".format(number_1))\n",
    "        if number_1 % 3 == 0:\n",
    "            print(\"{} is divisible by 3\".format(number_1))\n",
    "else:\n",
    "    print(\"{} is an odd number\".format(number_1))\n",
    "    if number_1 % 5 == 0:\n",
    "        print(\"{} is divisible by 5\".format(number_1))\n",
    "        if number_1 % 3 == 0:\n",
    "            print(\"{} is divisible by 3\".format(number_1))\n",
    "    else:\n",
    "        print(\"{} is not divisible by 3 or 5.\".format(number_1))"
   ]
  },
  {
   "cell_type": "code",
   "execution_count": 15,
   "metadata": {},
   "outputs": [
    {
     "name": "stdout",
     "output_type": "stream",
     "text": [
      "The number 15 is odd\n"
     ]
    }
   ],
   "source": [
    "# Python also support writing shorter syntes in one sentence.\n",
    "\n",
    "result = \"even\" if number_1 % 2 == 0 else 'odd'\n",
    "print(\"The number {} is {}\".format(number_1, result))"
   ]
  },
  {
   "cell_type": "code",
   "execution_count": 14,
   "metadata": {},
   "outputs": [
    {
     "ename": "IndentationError",
     "evalue": "expected an indented block after 'if' statement on line 5 (2133625568.py, line 6)",
     "output_type": "error",
     "traceback": [
      "\u001b[1;36m  Cell \u001b[1;32mIn[14], line 6\u001b[1;36m\u001b[0m\n\u001b[1;33m    elif number_1 % 3 == 0:\u001b[0m\n\u001b[1;37m    ^\u001b[0m\n\u001b[1;31mIndentationError\u001b[0m\u001b[1;31m:\u001b[0m expected an indented block after 'if' statement on line 5\n"
     ]
    }
   ],
   "source": [
    "# \"if\" statements cannot be empty, there must be at least one statement in every \"if\" and \"elif\" block. \n",
    "#  You can use the \"pass\" statement to do nothing and avoid getting an error.\n",
    "\n",
    "number_1 = 9\n",
    "if number_1 % 2 == 0:\n",
    "elif number_1 % 3 == 0:\n",
    "    print(\"{} is divisible by 3 but not divisible by 2\".format(number_1))"
   ]
  },
  {
   "cell_type": "code",
   "execution_count": 17,
   "metadata": {},
   "outputs": [
    {
     "name": "stdout",
     "output_type": "stream",
     "text": [
      "9 is divisible by 3 but not divisible by 2\n"
     ]
    }
   ],
   "source": [
    "# The above problem can be solved by adding a statement after \"if\" block.\n",
    "# try with number_1 = 10, see what happen, nothing printed out as only one of them will be executed. \n",
    "\n",
    "number_1 = 9\n",
    "if number_1 % 2 == 0:\n",
    "    pass\n",
    "elif number_1 % 3 == 0:\n",
    "    print(\"{} is divisible by 3 but not divisible by 2\".format(number_1))"
   ]
  },
  {
   "cell_type": "code",
   "execution_count": 18,
   "metadata": {},
   "outputs": [
    {
     "name": "stdout",
     "output_type": "stream",
     "text": [
      "The factorial of 100 is 3628800\n",
      "CPU times: total: 0 ns\n",
      "Wall time: 0 ns\n"
     ]
    }
   ],
   "source": [
    "%%time\n",
    "# while loop is used to iterate until a certain condition is met to get out of the loop\n",
    "# %%time, so-called magic function is used to check the time CPU takes to run the code. It must appear at the top.\n",
    "\n",
    "result = 1\n",
    "i = 1\n",
    "while i <= 10:\n",
    "    result = result * i   # sane as result *= i\n",
    "    i = i + 1             # sane as i += 1\n",
    "print(\"The factorial of 100 is {}\".format(result))"
   ]
  },
  {
   "cell_type": "raw",
   "metadata": {},
   "source": [
    "line = \"*\"\n",
    "max_length = 10\n",
    "\n",
    "while len(line) < 10:\n",
    "    print(line)\n",
    "    line = line + \"*\"\n",
    "while len(line) > 0:\n",
    "    print(line)\n",
    "    line = line[:-1]"
   ]
  },
  {
   "cell_type": "code",
   "execution_count": 3,
   "metadata": {},
   "outputs": [
    {
     "name": "stdout",
     "output_type": "stream",
     "text": [
      "1\n",
      "2\n",
      "6\n",
      "24\n",
      "120\n",
      "720\n",
      "5040\n",
      "40320\n",
      "362880\n",
      "3628800\n",
      "Magic number 10 has reached!, stopping execution\n"
     ]
    }
   ],
   "source": [
    "# Break statement and continuous loop: \n",
    "\n",
    "#\"while\" statement will break at i == 10.\n",
    "# However, if you include i += 1 within the \"if\" block, while loop will become infinite as i += 1 will never be executed, hence,\n",
    "# \"i\" will always remain smaller than 100.\n",
    "\n",
    "result = 1\n",
    "i = 1\n",
    "while i <= 100:\n",
    "    result = result * i\n",
    "    print(result)\n",
    "    if i == 10:\n",
    "        print(\"Magic number 10 has reached!, stopping execution\")\n",
    "        break\n",
    "    i += 1\n",
    "\n"
   ]
  },
  {
   "cell_type": "markdown",
   "metadata": {},
   "source": [
    "As you can see above, the value of `i` at the end of execution is 42. This example also shows how you can use an `if` statement within a `while` loop.\n",
    "\n",
    "Sometimes you may not want to end the loop entirely, but simply skip the remaining statements in the loop and *continue* to the next loop. You can do this using the `continue` statement."
   ]
  },
  {
   "cell_type": "code",
   "execution_count": 19,
   "metadata": {},
   "outputs": [
    {
     "name": "stdout",
     "output_type": "stream",
     "text": [
      "i: 2\n",
      "i: 3\n",
      "i: 4\n",
      "i: 6\n",
      "i: 7\n",
      "i: 8\n",
      "i: 9\n",
      "i: 11\n",
      "i: 12\n",
      "i: 13\n",
      "i: 14\n",
      "i: 16\n",
      "i: 17\n",
      "i: 18\n",
      "i: 19\n",
      "result: 1\n"
     ]
    }
   ],
   "source": [
    "i = 1\n",
    "result = 1\n",
    "\n",
    "while i < 20:\n",
    "    i += 1\n",
    "    if i % 5 == 0:\n",
    "        continue # skip all the statements within this block, move to the next condition. \n",
    "        result = result * i # skipped, result will not change, hence, final result will remain as \"1\".\n",
    "        print(\"hi\") # skipped, nothing will be printed.\n",
    "    print('i:', i)\n",
    "print('result:', result) "
   ]
  },
  {
   "cell_type": "code",
   "execution_count": 20,
   "metadata": {},
   "outputs": [
    {
     "name": "stdout",
     "output_type": "stream",
     "text": [
      "Monday\n",
      "Tuesday\n",
      "Wednesday\n",
      "Thursday\n",
      "Friday\n"
     ]
    }
   ],
   "source": [
    "# In case of a \"For\" loop, the statement within the loop are executed once for each element in sequence. \n",
    "\n",
    "days = [\"Monday\", \"Tuesday\", \"Wednesday\", \"Thursday\", \"Friday\"]\n",
    "for day in days:\n",
    "    print(day)"
   ]
  },
  {
   "cell_type": "code",
   "execution_count": 21,
   "metadata": {},
   "outputs": [
    {
     "name": "stdout",
     "output_type": "stream",
     "text": [
      "S\n",
      "u\n",
      "n\n",
      "d\n",
      "a\n",
      "y\n"
     ]
    }
   ],
   "source": [
    "# Looping (\"for\") over a string:\n",
    "\n",
    "for alpha in \"Sunday\":\n",
    "    print(alpha)"
   ]
  },
  {
   "cell_type": "code",
   "execution_count": 49,
   "metadata": {},
   "outputs": [
    {
     "name": "stdout",
     "output_type": "stream",
     "text": [
      "key : name , value : Ayaan Alam\n",
      "key : sex , value : Male\n",
      "key : age , value : 12\n",
      "key : passed , value : True\n"
     ]
    }
   ],
   "source": [
    "# looping over a dictionary\n",
    "\n",
    "student_1 = {\n",
    "    \"name\" : \"Ayaan Alam\",\n",
    "    \"sex\" : \"Male\",\n",
    "    \"age\" : 12,\n",
    "    \"passed\" : True\n",
    "}\n",
    "\n",
    "for key in student_1:\n",
    "    print(\"key :\", key, \",\", \"value :\", student_1[key]) # remember to put a comma"
   ]
  },
  {
   "cell_type": "code",
   "execution_count": 42,
   "metadata": {},
   "outputs": [
    {
     "name": "stdout",
     "output_type": "stream",
     "text": [
      "Ayaan Alam\n",
      "Male\n",
      "12\n",
      "True\n"
     ]
    }
   ],
   "source": [
    "for a in student_1.values():\n",
    "    print(a)"
   ]
  },
  {
   "cell_type": "code",
   "execution_count": 44,
   "metadata": {},
   "outputs": [
    {
     "name": "stdout",
     "output_type": "stream",
     "text": [
      "name\n",
      "sex\n",
      "age\n",
      "passed\n"
     ]
    }
   ],
   "source": [
    "for a in student_1.keys():\n",
    "    print(a)"
   ]
  },
  {
   "cell_type": "code",
   "execution_count": 55,
   "metadata": {},
   "outputs": [
    {
     "name": "stdout",
     "output_type": "stream",
     "text": [
      "('name', 'Ayaan Alam')\n",
      "('sex', 'Male')\n",
      "('age', 12)\n",
      "('passed', True)\n"
     ]
    }
   ],
   "source": [
    "for a in student_1.items(): # for accessing the value with a \"for\" loop, you can call it as any name you want, say, \"a\", \"key\".\n",
    "    print(a)"
   ]
  },
  {
   "cell_type": "code",
   "execution_count": 56,
   "metadata": {},
   "outputs": [
    {
     "name": "stdout",
     "output_type": "stream",
     "text": [
      "key : name , value : Ayaan Alam\n",
      "key : sex , value : Male\n",
      "key : age , value : 12\n",
      "key : passed , value : True\n"
     ]
    }
   ],
   "source": [
    "for key, value in student_1.items():\n",
    "    print(\"key :\", key , \",\", \"value :\", value)"
   ]
  },
  {
   "cell_type": "code",
   "execution_count": 57,
   "metadata": {},
   "outputs": [
    {
     "name": "stdout",
     "output_type": "stream",
     "text": [
      "0\n",
      "1\n",
      "2\n",
      "3\n",
      "4\n",
      "5\n",
      "6\n"
     ]
    }
   ],
   "source": [
    "for i in range(7):\n",
    "    print(i)"
   ]
  },
  {
   "cell_type": "code",
   "execution_count": 58,
   "metadata": {},
   "outputs": [
    {
     "name": "stdout",
     "output_type": "stream",
     "text": [
      "3\n",
      "4\n",
      "5\n",
      "6\n",
      "7\n",
      "8\n",
      "9\n"
     ]
    }
   ],
   "source": [
    "for i in range(3, 10):\n",
    "    print(i)"
   ]
  },
  {
   "cell_type": "code",
   "execution_count": 59,
   "metadata": {},
   "outputs": [
    {
     "name": "stdout",
     "output_type": "stream",
     "text": [
      "3\n",
      "7\n",
      "11\n"
     ]
    }
   ],
   "source": [
    "for i in range(3, 14, 4):\n",
    "    print(i)"
   ]
  },
  {
   "cell_type": "code",
   "execution_count": 60,
   "metadata": {},
   "outputs": [
    {
     "data": {
      "text/plain": [
       "['Monday', 'Tuesday', 'Wednesday', 'Thursday', 'Friday']"
      ]
     },
     "execution_count": 60,
     "metadata": {},
     "output_type": "execute_result"
    }
   ],
   "source": [
    "days"
   ]
  },
  {
   "cell_type": "code",
   "execution_count": 63,
   "metadata": {},
   "outputs": [
    {
     "name": "stdout",
     "output_type": "stream",
     "text": [
      "The index of Monday is 0 in a week\n",
      "The index of Tuesday is 1 in a week\n",
      "The index of Wednesday is 2 in a week\n",
      "The index of Thursday is 3 in a week\n",
      "The index of Friday is 4 in a week\n"
     ]
    }
   ],
   "source": [
    "for position in range(len(days)):\n",
    "    print(\"The index of {} is {} in a week\".format(days[position], position))"
   ]
  },
  {
   "cell_type": "code",
   "execution_count": 66,
   "metadata": {},
   "outputs": [
    {
     "data": {
      "text/plain": [
       "'Monday'"
      ]
     },
     "execution_count": 66,
     "metadata": {},
     "output_type": "execute_result"
    }
   ],
   "source": [
    "days[0]"
   ]
  },
  {
   "cell_type": "code",
   "execution_count": null,
   "metadata": {},
   "outputs": [],
   "source": []
  },
  {
   "cell_type": "markdown",
   "metadata": {},
   "source": [
    "### `break`, `continue` and `pass` statements\n",
    "\n",
    "Similar to `while` loops, `for` loops also support the `break` and `continue` statements. `break` is used for breaking out of the loop and `continue` is used for skipping ahead to the next iteration."
   ]
  },
  {
   "cell_type": "code",
   "execution_count": 77,
   "metadata": {},
   "outputs": [
    {
     "name": "stdout",
     "output_type": "stream",
     "text": [
      "I work on Monday\n",
      "I work on Tuesday\n",
      "I work on Wednesday\n",
      "I don't work beyond Thursday\n"
     ]
    }
   ],
   "source": [
    "weekdays = [\"Monday\", \"Tuesday\", \"Wednesday\", \"Thursday\", \"Friday\"]\n",
    "for day in weekdays:\n",
    "    if day == \"Thursday\":\n",
    "        print(\"I don't work beyond {}\".format(day))\n",
    "        break\n",
    "    print(\"I work on {}\".format(day))"
   ]
  },
  {
   "cell_type": "code",
   "execution_count": 80,
   "metadata": {},
   "outputs": [
    {
     "name": "stdout",
     "output_type": "stream",
     "text": [
      "Monday is the day of my work\n",
      "Tuesday is the day of my work\n",
      "Wednesday is the day of my work\n",
      "Friday is the day of my work\n"
     ]
    }
   ],
   "source": [
    "for day in weekdays:\n",
    "    if day == \"Thursday\":\n",
    "        #print(\"Skip {} as I do not work on this day\".format(day))\n",
    "        continue\n",
    "    print(\"{} is the day of my work\".format(day))"
   ]
  },
  {
   "cell_type": "code",
   "execution_count": 81,
   "metadata": {},
   "outputs": [],
   "source": [
    "for day in weekdays:\n",
    "    pass"
   ]
  },
  {
   "cell_type": "code",
   "execution_count": 1,
   "metadata": {},
   "outputs": [],
   "source": [
    "students = [{'Name' : \"Ayaan Alam\", \"Age\" : 11, \"Address\" : \"7 Mossberry St\", \"Passed\" : True}, {\"Name\" : \"Rishan Alam\", \n",
    "                                        \"Age\" : 6, \"Address\" : \"7 Mossberry St\", \"Passed\" : True}]"
   ]
  },
  {
   "cell_type": "code",
   "execution_count": 9,
   "metadata": {},
   "outputs": [
    {
     "name": "stdout",
     "output_type": "stream",
     "text": [
      "Name : Ayaan Alam\n",
      "Age : 11\n",
      "Address : 7 Mossberry St\n",
      "Passed : True\n",
      "\n",
      "Name : Rishan Alam\n",
      "Age : 6\n",
      "Address : 7 Mossberry St\n",
      "Passed : True\n",
      "\n"
     ]
    }
   ],
   "source": [
    "# Nested \"for\" loops:\n",
    "\n",
    "for student in students:\n",
    "    for key in student:\n",
    "        print(key, \":\", student[key])\n",
    "    print(\"\")"
   ]
  },
  {
   "cell_type": "code",
   "execution_count": 15,
   "metadata": {},
   "outputs": [
    {
     "name": "stdout",
     "output_type": "stream",
     "text": [
      "week_1 :\n",
      "     Sunday\n",
      "     Monday\n",
      "     Tuesday\n",
      "     Wednesday\n",
      "     Thursday\n",
      "     Friday\n",
      "     Saturday\n",
      "\n",
      "week_2 :\n",
      "     Sunday\n",
      "     Monday\n",
      "     Tuesday\n",
      "     Wednesday\n",
      "     Thursday\n",
      "     Friday\n",
      "     Saturday\n",
      "\n",
      "week_3 :\n",
      "     Sunday\n",
      "     Monday\n",
      "     Tuesday\n",
      "     Wednesday\n",
      "     Thursday\n",
      "     Friday\n",
      "     Saturday\n",
      "\n",
      "week_4 :\n",
      "     Sunday\n",
      "     Monday\n",
      "     Tuesday\n",
      "     Wednesday\n",
      "     Thursday\n",
      "     Friday\n",
      "     Saturday\n",
      "\n"
     ]
    }
   ],
   "source": [
    "month = [\"week_1\", \"week_2\", \"week_3\", \"week_4\"]\n",
    "days = [\"Sunday\", \"Monday\",  \"Tuesday\", \"Wednesday\", \"Thursday\", \"Friday\", \"Saturday\"]\n",
    "\n",
    "for week in month:\n",
    "    print(week, \":\")\n",
    "    for day in days:\n",
    "        print('    ', day)\n",
    "    print(\"\")\n",
    "    "
   ]
  },
  {
   "cell_type": "code",
   "execution_count": 20,
   "metadata": {},
   "outputs": [
    {
     "name": "stdout",
     "output_type": "stream",
     "text": [
      "week_1 : Sunday\n",
      "week_1 : Monday\n",
      "week_1 : Tuesday\n",
      "week_1 : Wednesday\n",
      "week_1 : Thursday\n",
      "week_1 : Friday\n",
      "week_1 : Saturday\n",
      "\n",
      "week_2 : Sunday\n",
      "week_2 : Monday\n",
      "week_2 : Tuesday\n",
      "week_2 : Wednesday\n",
      "week_2 : Thursday\n",
      "week_2 : Friday\n",
      "week_2 : Saturday\n",
      "\n",
      "week_3 : Sunday\n",
      "week_3 : Monday\n",
      "week_3 : Tuesday\n",
      "week_3 : Wednesday\n",
      "week_3 : Thursday\n",
      "week_3 : Friday\n",
      "week_3 : Saturday\n",
      "\n",
      "week_4 : Sunday\n",
      "week_4 : Monday\n",
      "week_4 : Tuesday\n",
      "week_4 : Wednesday\n",
      "week_4 : Thursday\n",
      "week_4 : Friday\n",
      "week_4 : Saturday\n",
      "\n"
     ]
    }
   ],
   "source": [
    "for week in month:\n",
    "    for day in days:\n",
    "        print(week, \":\", day)\n",
    "    print(\"\")"
   ]
  },
  {
   "cell_type": "markdown",
   "metadata": {},
   "source": [
    "## Further Reading and References\n",
    "\n",
    "We've covered a lot of ground in just 3 tutorials. \n",
    "\n",
    "Following are some resources to learn about more about conditional statements and loops in Python:\n",
    "\n",
    "* Python Tutorial at W3Schools: https://www.w3schools.com/python/\n",
    "* Practical Python Programming: https://dabeaz-course.github.io/practical-python/Notes/Contents.html\n",
    "* Python official documentation: https://docs.python.org/3/tutorial/index.html"
   ]
  },
  {
   "cell_type": "code",
   "execution_count": null,
   "metadata": {},
   "outputs": [],
   "source": []
  }
 ],
 "metadata": {
  "kernelspec": {
   "display_name": "Python 3 (ipykernel)",
   "language": "python",
   "name": "python3"
  },
  "language_info": {
   "codemirror_mode": {
    "name": "ipython",
    "version": 3
   },
   "file_extension": ".py",
   "mimetype": "text/x-python",
   "name": "python",
   "nbconvert_exporter": "python",
   "pygments_lexer": "ipython3",
   "version": "3.11.1"
  }
 },
 "nbformat": 4,
 "nbformat_minor": 4
}
