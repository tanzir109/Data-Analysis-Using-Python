{
 "cells": [
  {
   "cell_type": "code",
   "execution_count": 11,
   "id": "f24119c9",
   "metadata": {},
   "outputs": [],
   "source": [
    "import qrcode"
   ]
  },
  {
   "cell_type": "code",
   "execution_count": 12,
   "id": "8a9bfc83",
   "metadata": {},
   "outputs": [],
   "source": [
    "from PIL import Image"
   ]
  },
  {
   "cell_type": "code",
   "execution_count": 13,
   "id": "639946b4",
   "metadata": {},
   "outputs": [],
   "source": [
    "qr = qrcode.QRCode(version = 1, \n",
    "                  error_correction = qrcode.constants.ERROR_CORRECT_H,\n",
    "                  box_size = 10, border = 4)"
   ]
  },
  {
   "cell_type": "code",
   "execution_count": 14,
   "id": "32816af3",
   "metadata": {},
   "outputs": [],
   "source": [
    "qr.add_data(\"https://www.youtube.com/@bayyinah\")\n",
    "qr.make(fit = True)\n",
    "img = qr.make_image(fill_color = \"red\", back_color = \"blue\")\n",
    "img.save(\"bayyinah_1.png\")"
   ]
  },
  {
   "cell_type": "code",
   "execution_count": null,
   "id": "f13f884e",
   "metadata": {},
   "outputs": [],
   "source": []
  }
 ],
 "metadata": {
  "kernelspec": {
   "display_name": "Python 3 (ipykernel)",
   "language": "python",
   "name": "python3"
  },
  "language_info": {
   "codemirror_mode": {
    "name": "ipython",
    "version": 3
   },
   "file_extension": ".py",
   "mimetype": "text/x-python",
   "name": "python",
   "nbconvert_exporter": "python",
   "pygments_lexer": "ipython3",
   "version": "3.11.1"
  }
 },
 "nbformat": 4,
 "nbformat_minor": 5
}
